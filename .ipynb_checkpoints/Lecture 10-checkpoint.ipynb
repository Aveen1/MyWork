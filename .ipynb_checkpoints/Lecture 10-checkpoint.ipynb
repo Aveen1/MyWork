{
 "cells": [
  {
   "cell_type": "code",
   "execution_count": null,
   "metadata": {},
   "outputs": [],
   "source": [
    "#lecture 10\n",
    "#OOP\n",
    "#hide the implementation details: Abstraction\n",
    "\n",
    "class RentalSys():\n",
    "    def available_cars(self,requested_cars):\n",
    "        if requested_cars in self.available:\n",
    "            print(\"Available cars are:  1.SUV 2.Hatchback 3.Sedan \")\n",
    "\n",
    "\n",
    "\n",
    "\n",
    "\n",
    "\n",
    "\n",
    "\n",
    "\n",
    "\n"
   ]
  }
 ],
 "metadata": {
  "kernelspec": {
   "display_name": "Python 3",
   "language": "python",
   "name": "python3"
  },
  "language_info": {
   "codemirror_mode": {
    "name": "ipython",
    "version": 3
   },
   "file_extension": ".py",
   "mimetype": "text/x-python",
   "name": "python",
   "nbconvert_exporter": "python",
   "pygments_lexer": "ipython3",
   "version": "3.6.5"
  }
 },
 "nbformat": 4,
 "nbformat_minor": 2
}
