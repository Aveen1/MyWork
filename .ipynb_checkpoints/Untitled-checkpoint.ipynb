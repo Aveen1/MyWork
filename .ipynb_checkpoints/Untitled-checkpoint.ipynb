{
 "cells": [
  {
   "cell_type": "code",
   "execution_count": 4,
   "metadata": {},
   "outputs": [
    {
     "ename": "SyntaxError",
     "evalue": "invalid syntax (<ipython-input-4-30813d377d0b>, line 8)",
     "output_type": "error",
     "traceback": [
      "\u001b[1;36m  File \u001b[1;32m\"<ipython-input-4-30813d377d0b>\"\u001b[1;36m, line \u001b[1;32m8\u001b[0m\n\u001b[1;33m    from math import\u001b[0m\n\u001b[1;37m                     ^\u001b[0m\n\u001b[1;31mSyntaxError\u001b[0m\u001b[1;31m:\u001b[0m invalid syntax\n"
     ]
    }
   ],
   "source": [
    "def trapezoid(f,a,b,n):\n",
    "    h=(b-a)/float(n)\n",
    "    s=0.5*(f(a)+f(b))\n",
    "    for i in range(1,n,1):\n",
    "        s=s + f(a + i*h)\n",
    "    return h*s\n",
    "\n",
    "import math \n",
    "def g(t):\n",
    "    return math.sin(t)\n",
    "\n",
    "a = 0;  b = 1\n",
    "n = 1\n",
    "result = trapezoid(g, a, b, n)\n",
    "print (result)"
   ]
  },
  {
   "cell_type": "code",
   "execution_count": null,
   "metadata": {},
   "outputs": [],
   "source": []
  },
  {
   "cell_type": "code",
   "execution_count": null,
   "metadata": {},
   "outputs": [],
   "source": []
  }
 ],
 "metadata": {
  "kernelspec": {
   "display_name": "Python 3",
   "language": "python",
   "name": "python3"
  },
  "language_info": {
   "codemirror_mode": {
    "name": "ipython",
    "version": 3
   },
   "file_extension": ".py",
   "mimetype": "text/x-python",
   "name": "python",
   "nbconvert_exporter": "python",
   "pygments_lexer": "ipython3",
   "version": "3.6.5"
  }
 },
 "nbformat": 4,
 "nbformat_minor": 2
}
