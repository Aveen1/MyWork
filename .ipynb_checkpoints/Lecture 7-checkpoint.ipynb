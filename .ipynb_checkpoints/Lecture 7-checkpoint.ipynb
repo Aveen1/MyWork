{
 "cells": [
  {
   "cell_type": "code",
   "execution_count": 6,
   "metadata": {},
   "outputs": [
    {
     "name": "stdout",
     "output_type": "stream",
     "text": [
      "8\n"
     ]
    }
   ],
   "source": [
    "#Functions chap 41\n",
    "def add_num():    #defining\n",
    "    firstnum= 3\n",
    "    secondnum=5\n",
    "    total=firstnum+secondnum\n",
    "    print(total)\n",
    "#everything can be a part of this body dictionaries,tuples etc\n",
    "#local variables are a part of functions\n",
    "add_num()         #calling"
   ]
  },
  {
   "cell_type": "code",
   "execution_count": 7,
   "metadata": {},
   "outputs": [
    {
     "name": "stdout",
     "output_type": "stream",
     "text": [
      "9\n"
     ]
    }
   ],
   "source": [
    "#chap 42\n",
    "#numbers that are given as input are called as arguments\n",
    "\n",
    "def num(first,second):\n",
    "    total=first+second\n",
    "    print(total)\n",
    "num(3,6)\n",
    "\n"
   ]
  },
  {
   "cell_type": "code",
   "execution_count": 13,
   "metadata": {},
   "outputs": [
    {
     "name": "stdout",
     "output_type": "stream",
     "text": [
      "Hello Aveen !\n",
      "Hello Saad !\n",
      "Hello Faraz !\n"
     ]
    }
   ],
   "source": [
    "def num(name):\n",
    "    for a in name:\n",
    "        print(\"Hello\", a.title(),\"!\")\n",
    "b=['aveen','saad','faraz']\n",
    "num(b)      "
   ]
  },
  {
   "cell_type": "code",
   "execution_count": 17,
   "metadata": {},
   "outputs": [
    {
     "name": "stdout",
     "output_type": "stream",
     "text": [
      "abcdef\n"
     ]
    }
   ],
   "source": [
    "# empty functions\n",
    "def empty():\n",
    "    pass  #we use pass instead of return\n",
    "def abc():\n",
    "    print(\"abcdef\")\n",
    "abc()"
   ]
  },
  {
   "cell_type": "code",
   "execution_count": 18,
   "metadata": {},
   "outputs": [
    {
     "name": "stdout",
     "output_type": "stream",
     "text": [
      "abcdef\n"
     ]
    }
   ],
   "source": [
    "empty()          #this won't work because it's passed\n",
    "abc()"
   ]
  },
  {
   "cell_type": "code",
   "execution_count": 20,
   "metadata": {},
   "outputs": [
    {
     "name": "stdout",
     "output_type": "stream",
     "text": [
      "The couple name is ali and laiba .\n"
     ]
    }
   ],
   "source": [
    "#chap 43\n",
    "#Positional Arguments\n",
    "#we use keyword arguments to reduce the positional arguments.\n",
    "def couple(hname,wname):\n",
    "    print(\"The couple name is\",hname,\"and\",wname, \".\")\n",
    "couple(hname='ali',wname='laiba')\n"
   ]
  },
  {
   "cell_type": "code",
   "execution_count": 26,
   "metadata": {},
   "outputs": [
    {
     "name": "stdout",
     "output_type": "stream",
     "text": [
      "I have an Audi\n",
      "I have an iphone\n"
     ]
    }
   ],
   "source": [
    "#chap 44\n",
    "def myself(car,phone=\"iphone\"):\n",
    "    print(\"I have an\", car)\n",
    "    print(\"I have an\", phone)\n",
    "myself('Audi','iphone')"
   ]
  },
  {
   "cell_type": "code",
   "execution_count": 34,
   "metadata": {},
   "outputs": [
    {
     "name": "stdout",
     "output_type": "stream",
     "text": [
      "My first name is Aveen\n",
      "My middle name is  \n",
      "My last name is Faheem\n",
      "My first name is Saad\n",
      "My middle name is Faheem\n",
      "My last name is  \n",
      "My first name is  \n",
      "My middle name is  \n",
      "My last name is Faraz\n"
     ]
    }
   ],
   "source": [
    "def names(first=\" \",middle=\" \",last=\" \"):\n",
    "    print(\"My first name is\", first)\n",
    "    print(\"My middle name is\", middle)\n",
    "    print(\"My last name is\", last)\n",
    "names(\"Aveen\",\" \", \"Faheem\")\n",
    "names(\"Saad\",\"Faheem\")\n",
    "names(\" \",\" \" ,\"Faraz\")\n",
    "    "
   ]
  },
  {
   "cell_type": "code",
   "execution_count": 52,
   "metadata": {},
   "outputs": [
    {
     "name": "stdout",
     "output_type": "stream",
     "text": [
      "small {}\n",
      "large {}\n"
     ]
    }
   ],
   "source": [
    "#unknown number of arguments\n",
    "def make_pizza(size,*toppings):\n",
    "    print(size, toppings)\n",
    "make_pizza('small','pepperoni','cream cheese','green chilli')  #works as a tuple\n",
    "make_pizza('large',)"
   ]
  },
  {
   "cell_type": "code",
   "execution_count": 56,
   "metadata": {},
   "outputs": [
    {
     "name": "stdout",
     "output_type": "stream",
     "text": [
      "small ('pepperoni', 'cream cheese', 'green chilli') {'drink': 'pepsi', 'drinks': 'water'}\n",
      "large ('Red chilli', 'cheese') {}\n"
     ]
    }
   ],
   "source": [
    "# ** shows that it will work as a dictionary\n",
    "def make_pizza(size,*toppings,** drinks):\n",
    "    print(size, toppings, drinks)\n",
    "make_pizza('small','pepperoni','cream cheese','green chilli', drink='pepsi',drinks='water') #works as a dictionary  \n",
    "make_pizza('large','Red chilli','cheese')\n"
   ]
  },
  {
   "cell_type": "code",
   "execution_count": null,
   "metadata": {},
   "outputs": [],
   "source": []
  }
 ],
 "metadata": {
  "kernelspec": {
   "display_name": "Python 3",
   "language": "python",
   "name": "python3"
  },
  "language_info": {
   "codemirror_mode": {
    "name": "ipython",
    "version": 3
   },
   "file_extension": ".py",
   "mimetype": "text/x-python",
   "name": "python",
   "nbconvert_exporter": "python",
   "pygments_lexer": "ipython3",
   "version": "3.6.5"
  }
 },
 "nbformat": 4,
 "nbformat_minor": 2
}
