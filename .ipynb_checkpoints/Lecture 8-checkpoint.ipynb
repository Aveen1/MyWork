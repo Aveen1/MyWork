{
 "cells": [
  {
   "cell_type": "code",
   "execution_count": 7,
   "metadata": {},
   "outputs": [
    {
     "name": "stdout",
     "output_type": "stream",
     "text": [
      "Wall clock time is: 12pm\n",
      "Wrist watch time is: 12pm\n",
      "Wall clock time is: 1:30 pm\n",
      "Wrist watch time is: 2pm\n",
      "1:30 pm\n"
     ]
    }
   ],
   "source": [
    "#Functions chapter 48\n",
    "#using functions as a variable\n",
    "#can't use the returned value anywhere bcz it's not saved.\n",
    "\n",
    "#chap 49\n",
    "#local vs global\n",
    "#global: can be accessible inside and outside of the function.\n",
    "#local: only inside the function\n",
    "#whenever we reinitialize a global value in function it will be changed inside the function but not a global function.\n",
    "\n",
    "wallc=\"1:30 pm\"  #global\n",
    "\n",
    "def setwwatch(newtime):\n",
    "    setwwatch=newtime\n",
    "    wallc=newtime\n",
    "    print(\"Wall clock time is: \" +wallc)\n",
    "    print(\"Wrist watch time is: \"+setwwatch)\n",
    "\n",
    "\n",
    "def setmywwatch(newtime):\n",
    "    setmywwatch=newtime\n",
    "    \n",
    "    print(\"Wall clock time is: \" +wallc)\n",
    "    print(\"Wrist watch time is: \"+setmywwatch)\n",
    "\n",
    "setwwatch(\"12pm\")\n",
    "setmywwatch(\"2pm\")\n",
    "print(wallc)"
   ]
  },
  {
   "cell_type": "code",
   "execution_count": 8,
   "metadata": {},
   "outputs": [
    {
     "ename": "NameError",
     "evalue": "name 'b' is not defined",
     "output_type": "error",
     "traceback": [
      "\u001b[1;31m---------------------------------------------------------------------------\u001b[0m",
      "\u001b[1;31mNameError\u001b[0m                                 Traceback (most recent call last)",
      "\u001b[1;32m<ipython-input-8-30c28082befb>\u001b[0m in \u001b[0;36m<module>\u001b[1;34m()\u001b[0m\n\u001b[0;32m      2\u001b[0m     \u001b[0mb\u001b[0m\u001b[1;33m=\u001b[0m\u001b[1;36m5\u001b[0m\u001b[1;33m\u001b[0m\u001b[0m\n\u001b[0;32m      3\u001b[0m \u001b[0ma\u001b[0m\u001b[1;33m(\u001b[0m\u001b[1;33m)\u001b[0m\u001b[1;33m\u001b[0m\u001b[0m\n\u001b[1;32m----> 4\u001b[1;33m \u001b[0mprint\u001b[0m\u001b[1;33m(\u001b[0m\u001b[0mb\u001b[0m\u001b[1;33m)\u001b[0m\u001b[1;33m\u001b[0m\u001b[0m\n\u001b[0m",
      "\u001b[1;31mNameError\u001b[0m: name 'b' is not defined"
     ]
    }
   ],
   "source": [
    "def a():\n",
    "    b=5\n",
    "a()\n",
    "print(b) #exercise question 11"
   ]
  },
  {
   "cell_type": "code",
   "execution_count": 11,
   "metadata": {},
   "outputs": [
    {
     "name": "stdout",
     "output_type": "stream",
     "text": [
      "5\n"
     ]
    }
   ],
   "source": [
    "def b(a):\n",
    "    c=a\n",
    "    return c\n",
    "print(b(5))\n",
    "#exercise question 12\n"
   ]
  },
  {
   "cell_type": "code",
   "execution_count": 12,
   "metadata": {},
   "outputs": [
    {
     "name": "stdout",
     "output_type": "stream",
     "text": [
      "what to say\n"
     ]
    }
   ],
   "source": [
    "#chapter 50 \n",
    "def nowsayit():\n",
    "    print(\"what to say\")\n",
    "    \n",
    "    \n",
    "def say():\n",
    "    whattosay=\"Hi\"\n",
    "    nowsayit()\n",
    "\n",
    "say()\n"
   ]
  },
  {
   "cell_type": "code",
   "execution_count": 13,
   "metadata": {},
   "outputs": [
    {
     "name": "stdout",
     "output_type": "stream",
     "text": [
      "1\n",
      "2\n",
      "3\n",
      "4\n",
      "5\n"
     ]
    }
   ],
   "source": [
    "#chapter 51 While loops\n",
    "#initial value, condition, flag etc to break the condition\n",
    "\n",
    "num=1\n",
    "while num <=5:\n",
    "    print(num)\n",
    "    num +=1\n",
    "\n"
   ]
  },
  {
   "cell_type": "code",
   "execution_count": 17,
   "metadata": {},
   "outputs": [
    {
     "name": "stdout",
     "output_type": "stream",
     "text": [
      "Enter a name of the city, or press q to terminateq\n"
     ]
    }
   ],
   "source": [
    "cleancity=['Karachi','Santa Fe','Tucson','Great falls']\n",
    "keeplooping = True\n",
    "while keeplooping== True:\n",
    "    user_input= input(\"Enter a name of the city, or press q to terminate\")\n",
    "         if user_input != \"q\":\n",
    "             for cleancity in cleanest_cities: \n",
    "                    if user_input == cleancity:\n",
    "                        print(\"It's one of the cleanest cities\") \n",
    "                break \n"
   ]
  },
  {
   "cell_type": "code",
   "execution_count": 3,
   "metadata": {},
   "outputs": [
    {
     "name": "stdout",
     "output_type": "stream",
     "text": [
      "Enter your age: 3\n",
      "No charges\n",
      "Enter your age: 10\n",
      "You have to pay 10$\n",
      "Enter your age: 20\n",
      "You have to pay 20$\n"
     ]
    }
   ],
   "source": [
    "age=\"\"\n",
    "while age !=\"q\":\n",
    "    age =int(input(\"Enter your age: \"))\n",
    "    if age<=3:\n",
    "        print(\"No charges\")\n",
    "    elif age<=10:\n",
    "        print(\"You have to pay 10$\")\n",
    "    else:\n",
    "        print(\"You have to pay 20$\")\n",
    "        break\n"
   ]
  },
  {
   "cell_type": "code",
   "execution_count": null,
   "metadata": {},
   "outputs": [],
   "source": []
  }
 ],
 "metadata": {
  "kernelspec": {
   "display_name": "Python 3",
   "language": "python",
   "name": "python3"
  },
  "language_info": {
   "codemirror_mode": {
    "name": "ipython",
    "version": 3
   },
   "file_extension": ".py",
   "mimetype": "text/x-python",
   "name": "python",
   "nbconvert_exporter": "python",
   "pygments_lexer": "ipython3",
   "version": "3.6.5"
  }
 },
 "nbformat": 4,
 "nbformat_minor": 2
}
