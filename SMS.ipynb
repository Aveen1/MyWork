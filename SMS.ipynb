{
 "cells": [
  {
   "cell_type": "code",
   "execution_count": 3,
   "metadata": {},
   "outputs": [],
   "source": [
    "  from __future__ import print_function\n",
    "  from telesign.messaging import MessagingClient\n",
    "\n",
    "  customer_id = \"BC7421F4-A97E-4F26-97CF-EF404A9E8777\"\n",
    "  api_key = \"Jb13AoCmVBiPBiuneOIqldHoKvL+ZceZWXmuGCkK8weO4tP89Ye0FKuXkFfY8PbS4EGQadV6K3lSR6YC8x/w9A==\"\n",
    "\n",
    "  phone_number = \"923232116684\"\n",
    "  message = \"Hey :)\"\n",
    "  message_type = \"ARN\"\n",
    "\n",
    "  messaging = MessagingClient(customer_id, api_key)\n",
    "  response = messaging.message(phone_number, message, message_type)\n",
    "  "
   ]
  },
  {
   "cell_type": "code",
   "execution_count": null,
   "metadata": {},
   "outputs": [],
   "source": []
  }
 ],
 "metadata": {
  "kernelspec": {
   "display_name": "Python 3",
   "language": "python",
   "name": "python3"
  },
  "language_info": {
   "codemirror_mode": {
    "name": "ipython",
    "version": 3
   },
   "file_extension": ".py",
   "mimetype": "text/x-python",
   "name": "python",
   "nbconvert_exporter": "python",
   "pygments_lexer": "ipython3",
   "version": "3.6.5"
  }
 },
 "nbformat": 4,
 "nbformat_minor": 2
}
